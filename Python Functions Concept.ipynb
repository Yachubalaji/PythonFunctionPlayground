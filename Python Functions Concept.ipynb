{
 "cells": [
  {
   "cell_type": "code",
   "execution_count": 1,
   "id": "1a624d14",
   "metadata": {},
   "outputs": [],
   "source": [
    "#Function in python that takes in 2 arguments and return the product of values\n",
    "def produc_two_num(input_a, input_b):\n",
    "    return input_a*input_b"
   ]
  },
  {
   "cell_type": "code",
   "execution_count": 2,
   "id": "c74b18ec",
   "metadata": {},
   "outputs": [],
   "source": [
    "#Python function to check if the number is within range (-100,100) and return Booelan value such as true or false\n",
    "def check_range(input_num):\n",
    "    return -100 <= input_num <= 100"
   ]
  },
  {
   "cell_type": "code",
   "execution_count": 3,
   "id": "9060f321",
   "metadata": {},
   "outputs": [],
   "source": [
    "def check_range_1(input_num):\n",
    "    return input_num in range(-100, 101)"
   ]
  },
  {
   "cell_type": "code",
   "execution_count": 6,
   "id": "3cd964c2",
   "metadata": {},
   "outputs": [],
   "source": [
    "#Function in python to check which the number is odd or not\n",
    "def check_odd():\n",
    "    input_num = int(input('Please enter a positive number '))\n",
    "    return input_num%2 != 0"
   ]
  },
  {
   "cell_type": "code",
   "execution_count": 7,
   "id": "31bb9d40",
   "metadata": {},
   "outputs": [
    {
     "name": "stdout",
     "output_type": "stream",
     "text": [
      "Please enter a positive number 3\n"
     ]
    },
    {
     "data": {
      "text/plain": [
       "True"
      ]
     },
     "execution_count": 7,
     "metadata": {},
     "output_type": "execute_result"
    }
   ],
   "source": [
    "check_odd()"
   ]
  },
  {
   "cell_type": "code",
   "execution_count": 8,
   "id": "da0692d4",
   "metadata": {},
   "outputs": [
    {
     "name": "stdout",
     "output_type": "stream",
     "text": [
      "Please enter a positive number 6\n"
     ]
    },
    {
     "data": {
      "text/plain": [
       "False"
      ]
     },
     "execution_count": 8,
     "metadata": {},
     "output_type": "execute_result"
    }
   ],
   "source": [
    "check_odd()"
   ]
  },
  {
   "cell_type": "code",
   "execution_count": 9,
   "id": "675f8b84",
   "metadata": {},
   "outputs": [],
   "source": [
    "# Function to check whether number in the given list is multiple of 3 or not\n",
    "num_list = [1, 9, 16, 31, 5, 7, 12, 18, 22, 21]"
   ]
  },
  {
   "cell_type": "code",
   "execution_count": 10,
   "id": "e655fc14",
   "metadata": {},
   "outputs": [],
   "source": [
    "def return_3x(input_list):\n",
    "    three_list = []\n",
    "    for item in input_list:\n",
    "        if item%3 == 0:\n",
    "            three_list.append(item)\n",
    "    return three_list"
   ]
  },
  {
   "cell_type": "code",
   "execution_count": 11,
   "id": "7f439c74",
   "metadata": {},
   "outputs": [
    {
     "data": {
      "text/plain": [
       "[9, 12, 18, 21]"
      ]
     },
     "execution_count": 11,
     "metadata": {},
     "output_type": "execute_result"
    }
   ],
   "source": [
    "return_3x(num_list)"
   ]
  },
  {
   "cell_type": "code",
   "execution_count": 18,
   "id": "9dc654ed",
   "metadata": {},
   "outputs": [],
   "source": [
    "#Function to write where it accepts two numbers as input and return lesser of two numbers if both numbers are even or return odd\n",
    "\n",
    "def check_two_number(input_a, input_b):\n",
    "    if input_a >= input_b: return input_a, input_b\n",
    "    else: return input_b, input_a\n",
    "\n",
    "def certain_output(input_a, input_b):\n",
    "    my_largest, my_smallest = check_two_number(input_a, input_b)\n",
    "    if (input_a%2 == 0) and (input_b%2 == 0):\n",
    "        return my_smallest\n",
    "#         return check_two_number(input_a, input_b)[1]\n",
    "    else:\n",
    "        return my_largest\n",
    "#         return check_two_number(input_a, input_b)[0]"
   ]
  },
  {
   "cell_type": "code",
   "execution_count": 13,
   "id": "095e8612",
   "metadata": {},
   "outputs": [
    {
     "data": {
      "text/plain": [
       "2"
      ]
     },
     "execution_count": 13,
     "metadata": {},
     "output_type": "execute_result"
    }
   ],
   "source": [
    "certain_output(2, 6)"
   ]
  },
  {
   "cell_type": "code",
   "execution_count": 14,
   "id": "0e943241",
   "metadata": {},
   "outputs": [
    {
     "data": {
      "text/plain": [
       "6"
      ]
     },
     "execution_count": 14,
     "metadata": {},
     "output_type": "execute_result"
    }
   ],
   "source": [
    "certain_output(1, 6)"
   ]
  },
  {
   "cell_type": "code",
   "execution_count": 15,
   "id": "2af3e696",
   "metadata": {},
   "outputs": [
    {
     "data": {
      "text/plain": [
       "9"
      ]
     },
     "execution_count": 15,
     "metadata": {},
     "output_type": "execute_result"
    }
   ],
   "source": [
    "certain_output(3, 9)"
   ]
  },
  {
   "cell_type": "code",
   "execution_count": 19,
   "id": "3012bd60",
   "metadata": {},
   "outputs": [],
   "source": [
    "#Function to return string in the reverse way\n",
    "def reverse_string(input_string):\n",
    "    return input_string[::-1]"
   ]
  },
  {
   "cell_type": "code",
   "execution_count": 20,
   "id": "0bb89e5f",
   "metadata": {},
   "outputs": [
    {
     "data": {
      "text/plain": [
       "'dlrow olleh'"
      ]
     },
     "execution_count": 20,
     "metadata": {},
     "output_type": "execute_result"
    }
   ],
   "source": [
    "reverse_string('hello world')"
   ]
  },
  {
   "cell_type": "code",
   "execution_count": 4,
   "id": "1253ca6c",
   "metadata": {},
   "outputs": [],
   "source": [
    "#Function to write a long string and all words should be reversed( I have used different function concepts as well)\n",
    "my_sen = 'hello world, today is a nice day'"
   ]
  },
  {
   "cell_type": "code",
   "execution_count": 41,
   "id": "3044d576",
   "metadata": {},
   "outputs": [],
   "source": [
    "def reverse_sentence(input_sen):\n",
    "    input_list = input_sen.split()\n",
    "    input_list.reverse()\n",
    "    return \" \".join(input_list)"
   ]
  },
  {
   "cell_type": "code",
   "execution_count": 42,
   "id": "b47bf943",
   "metadata": {},
   "outputs": [
    {
     "data": {
      "text/plain": [
       "'day! nice a is today world, hello'"
      ]
     },
     "execution_count": 42,
     "metadata": {},
     "output_type": "execute_result"
    }
   ],
   "source": [
    "reverse_sentence(my_sen)"
   ]
  },
  {
   "cell_type": "code",
   "execution_count": 45,
   "id": "36823106",
   "metadata": {},
   "outputs": [],
   "source": [
    "input_list = my_sen.split()"
   ]
  },
  {
   "cell_type": "code",
   "execution_count": 46,
   "id": "6e5fdc96",
   "metadata": {},
   "outputs": [
    {
     "data": {
      "text/plain": [
       "<function list.reverse()>"
      ]
     },
     "execution_count": 46,
     "metadata": {},
     "output_type": "execute_result"
    }
   ],
   "source": [
    "input_list.reverse"
   ]
  },
  {
   "cell_type": "code",
   "execution_count": 47,
   "id": "0115763b",
   "metadata": {},
   "outputs": [
    {
     "name": "stdout",
     "output_type": "stream",
     "text": [
      "Help on built-in function reverse:\n",
      "\n",
      "reverse() method of builtins.list instance\n",
      "    Reverse *IN PLACE*.\n",
      "\n"
     ]
    }
   ],
   "source": [
    "help(input_list.reverse)"
   ]
  },
  {
   "cell_type": "code",
   "execution_count": 5,
   "id": "3bf0a522",
   "metadata": {},
   "outputs": [],
   "source": [
    "#Function to get all the factors of the given number\n",
    "def return_factor(input_num):\n",
    "    factor_list = []\n",
    "    for i in range(1, input_num+1):\n",
    "        if input_num%i == 0:\n",
    "            factor_list.append(i)\n",
    "    return factor_list"
   ]
  },
  {
   "cell_type": "code",
   "execution_count": 54,
   "id": "d5c99f87",
   "metadata": {},
   "outputs": [
    {
     "data": {
      "text/plain": [
       "[1, 2, 3, 6]"
      ]
     },
     "execution_count": 54,
     "metadata": {},
     "output_type": "execute_result"
    }
   ],
   "source": [
    "return_factor(6)"
   ]
  },
  {
   "cell_type": "code",
   "execution_count": 55,
   "id": "8ecd447c",
   "metadata": {},
   "outputs": [
    {
     "data": {
      "text/plain": [
       "[1, 7]"
      ]
     },
     "execution_count": 55,
     "metadata": {},
     "output_type": "execute_result"
    }
   ],
   "source": [
    "return_factor(7)"
   ]
  },
  {
   "cell_type": "code",
   "execution_count": 6,
   "id": "b87905ed",
   "metadata": {},
   "outputs": [],
   "source": [
    "#Function tow write if the number is perfect or not\n",
    "def check_perfect(input_num):\n",
    "    sum = 0\n",
    "    for i in range(1, input_num):\n",
    "        if input_num%i ==0:\n",
    "            sum += i\n",
    "    return sum == input_num"
   ]
  },
  {
   "cell_type": "code",
   "execution_count": 49,
   "id": "9eb16757",
   "metadata": {},
   "outputs": [
    {
     "data": {
      "text/plain": [
       "True"
      ]
     },
     "execution_count": 49,
     "metadata": {},
     "output_type": "execute_result"
    }
   ],
   "source": [
    "check_perfect(6)"
   ]
  },
  {
   "cell_type": "code",
   "execution_count": 50,
   "id": "a86fc8c3",
   "metadata": {},
   "outputs": [
    {
     "data": {
      "text/plain": [
       "False"
      ]
     },
     "execution_count": 50,
     "metadata": {},
     "output_type": "execute_result"
    }
   ],
   "source": [
    "check_perfect(10)"
   ]
  },
  {
   "cell_type": "code",
   "execution_count": 51,
   "id": "821219e5",
   "metadata": {},
   "outputs": [
    {
     "data": {
      "text/plain": [
       "True"
      ]
     },
     "execution_count": 51,
     "metadata": {},
     "output_type": "execute_result"
    }
   ],
   "source": [
    "check_perfect(28)"
   ]
  },
  {
   "cell_type": "code",
   "execution_count": 52,
   "id": "e8ed39f7",
   "metadata": {},
   "outputs": [
    {
     "data": {
      "text/plain": [
       "True"
      ]
     },
     "execution_count": 52,
     "metadata": {},
     "output_type": "execute_result"
    }
   ],
   "source": [
    "check_perfect(8128)"
   ]
  },
  {
   "cell_type": "code",
   "execution_count": 56,
   "id": "1e7eebd7",
   "metadata": {},
   "outputs": [],
   "source": [
    "# Function in where we have given the numbers range where I will try to get even,prme numbers concepts\n",
    "def check_even(input_num):\n",
    "    return input_num%2 == 0"
   ]
  },
  {
   "cell_type": "code",
   "execution_count": 57,
   "id": "45a10c59",
   "metadata": {},
   "outputs": [],
   "source": [
    "def check_even_1(input_num):\n",
    "    even_flag = False\n",
    "    if input_num%2 == 0:\n",
    "        even_flag = True\n",
    "    return even_flag"
   ]
  },
  {
   "cell_type": "code",
   "execution_count": 58,
   "id": "cb00d7bf",
   "metadata": {},
   "outputs": [],
   "source": [
    "def check_prime(input_num):\n",
    "    for i in range(2, input_num - 1):\n",
    "        if input_num%i == 0:\n",
    "            return False\n",
    "    return True"
   ]
  },
  {
   "cell_type": "code",
   "execution_count": 59,
   "id": "8de65444",
   "metadata": {},
   "outputs": [],
   "source": [
    "def check_3x(input_num):\n",
    "    return input_num%3 == 0"
   ]
  },
  {
   "cell_type": "code",
   "execution_count": 62,
   "id": "0041cab4",
   "metadata": {},
   "outputs": [],
   "source": [
    "def check_list():\n",
    "    even_list = []\n",
    "    prime_list = []\n",
    "    perfect_list = []\n",
    "    three_list = []\n",
    "    for i in range(2, 101):\n",
    "        if check_even(i): even_list.append(i)\n",
    "        if check_prime(i): prime_list.append(i)\n",
    "        if check_perfect(i): perfect_list.append(i)\n",
    "        if check_3x(i): three_list.append(i)\n",
    "    return even_list, prime_list, perfect_list, three_list"
   ]
  },
  {
   "cell_type": "code",
   "execution_count": 64,
   "id": "bcde17f3",
   "metadata": {},
   "outputs": [],
   "source": [
    "my_even_list, my_prime_list, my_perfect_list, my_three_list = check_list()"
   ]
  },
  {
   "cell_type": "code",
   "execution_count": 69,
   "id": "e5fe5fd2",
   "metadata": {},
   "outputs": [
    {
     "name": "stdout",
     "output_type": "stream",
     "text": [
      "2 4 6 8 10 12 14 16 18 20 22 24 26 28 30 32 34 36 38 40 42 44 46 48 50 52 54 56 58 60 62 64 66 68 70 72 74 76 78 80 82 84 86 88 90 92 94 96 98 100\n"
     ]
    }
   ],
   "source": [
    "print(*my_even_list)"
   ]
  },
  {
   "cell_type": "code",
   "execution_count": 70,
   "id": "76386036",
   "metadata": {},
   "outputs": [
    {
     "name": "stdout",
     "output_type": "stream",
     "text": [
      "2 3 5 7 11 13 17 19 23 29 31 37 41 43 47 53 59 61 67 71 73 79 83 89 97\n"
     ]
    }
   ],
   "source": [
    "print(*my_prime_list)"
   ]
  },
  {
   "cell_type": "code",
   "execution_count": 72,
   "id": "022f56c2",
   "metadata": {},
   "outputs": [
    {
     "name": "stdout",
     "output_type": "stream",
     "text": [
      "6 28\n"
     ]
    }
   ],
   "source": [
    "print(*my_perfect_list)"
   ]
  },
  {
   "cell_type": "code",
   "execution_count": 73,
   "id": "e94827a9",
   "metadata": {},
   "outputs": [
    {
     "name": "stdout",
     "output_type": "stream",
     "text": [
      "3 6 9 12 15 18 21 24 27 30 33 36 39 42 45 48 51 54 57 60 63 66 69 72 75 78 81 84 87 90 93 96 99\n"
     ]
    }
   ],
   "source": [
    "print(*my_three_list)"
   ]
  },
  {
   "cell_type": "code",
   "execution_count": null,
   "id": "2c1a91e0",
   "metadata": {},
   "outputs": [],
   "source": []
  }
 ],
 "metadata": {
  "kernelspec": {
   "display_name": "Python 3 (ipykernel)",
   "language": "python",
   "name": "python3"
  },
  "language_info": {
   "codemirror_mode": {
    "name": "ipython",
    "version": 3
   },
   "file_extension": ".py",
   "mimetype": "text/x-python",
   "name": "python",
   "nbconvert_exporter": "python",
   "pygments_lexer": "ipython3",
   "version": "3.11.5"
  }
 },
 "nbformat": 4,
 "nbformat_minor": 5
}
